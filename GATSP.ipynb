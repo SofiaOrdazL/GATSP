{
  "cells": [
    {
      "cell_type": "code",
      "execution_count": 1,
      "id": "071374d9",
      "metadata": {
        "id": "071374d9"
      },
      "outputs": [],
      "source": [
        "# We import the libraries that we will need.\n",
        "import numpy as np\n",
        "from collections import Counter\n",
        "from random import choices\n",
        "from tqdm import tqdm"
      ]
    },
    {
      "cell_type": "code",
      "source": [
        "def create_genome(gen_size):\n",
        "    genome = [] # Empty list to store the genome.\n",
        "    genome.append(int(np.random.randint(cityn+1))) # Random integer to the genome list.\n",
        "    # Iterate over the range of gen_size.\n",
        "    for i in range(gen_size):\n",
        "        flag = True\n",
        "        dobreak = False\n",
        "        while flag:\n",
        "            j  = int(np.random.randint(0, cityn))\n",
        "            # Check if there is an adjacency between the last element in the genome and the randomly generated integer.\n",
        "            if adj[genome[-1], j] == 1:\n",
        "                flag = False\n",
        "            # Check if the number of cities in the genome list is equal to city_no + 1.\n",
        "            if cities([genome])[0] == cityn+1:\n",
        "                dobreak = True\n",
        "        if dobreak: break\n",
        "        genome.append(j) # Add the generated integer to the genome list.\n",
        "    return genome\n",
        "\n",
        "def solution(genome):\n",
        "    solution = \"\"\n",
        "    # Iterate over the range of the length of the genome list, excluding the last element.\n",
        "    for i in range(len(genome)-1):\n",
        "        solution += f\"{citiesname[genome[i]]} -> \"\n",
        "    # Name of the city corresponding to the last element.\n",
        "    solution += f\"{citiesname[genome[-1]]}\"\n",
        "    return solution  # Return the generated solution\n",
        "\n",
        "def fitness(genome):\n",
        "    cost = 0\n",
        "    time = 0  \n",
        "    for i in range(len(genome)-1):\n",
        "        if genome[i] == genome[i+1]:\n",
        "            break  # Exit the loop if the same city is visited consecutively\n",
        "        else:\n",
        "            cost += dist_cost[genome[i]][genome[i+1]]  # Add the distance cost between consecutive cities.\n",
        "            time += time_cost[genome[i]][genome[i+1]]  # Add the time cost between consecutive cities.\n",
        "    if time > max_t:\n",
        "        return 0 \n",
        "    return cost  # Return the total cost of the genome.\n",
        "\n",
        "def first_generation(pop_size, gen_size):\n",
        "    # Create an empty list to store the initial generation\n",
        "    generation = []\n",
        "    # Generate random genomes and add them to the generation\n",
        "    for i in range(pop_size):\n",
        "        generation.append(create_genome(gen_size))\n",
        "    # Return the generated generation\n",
        "    return generation\n",
        "    \n",
        "def next_generation(pop, pop_size, elitism_coef):\n",
        "    fit = pop_fitness(pop)\n",
        "    # Check if all fitness values are 0 or the sum of fitness values is 0\n",
        "    if np.all(fit == 0) or sum(fit) == 0:\n",
        "        return first_generation(pop_size, gen_size)\n",
        "    citiesno = cities(pop)\n",
        "    temp = pop\n",
        "    temp.sort(key=fitness, reverse=True)\n",
        "    # Adjust fitness values by adding the number of cities visited\n",
        "    for i in range(len(fit)):\n",
        "        if fit[i] != 0:\n",
        "            fit[i] += citiesno[i]\n",
        "    nextgen = []\n",
        "    # Select the top individuals (elitism) for the next generation\n",
        "    for i in range(elitism_coef):\n",
        "        nextgen.append(temp[i])\n",
        "    # Perform mating and mutation to generate the remaining individuals\n",
        "    for i in range(int(np.floor((pop_size - elitism_coef) / 2))):\n",
        "        pair = choices(pop, weights=fit, k=2)\n",
        "        nextgen.extend(mutate(pair[0], pair[1]))\n",
        "    return nextgen\n",
        "\n",
        "def pop_fitness(population):\n",
        "    fit = []\n",
        "    # Calculate fitness value for each individual in the population\n",
        "    for x in population:\n",
        "        fit.append(fitness(x))\n",
        "    totcost = 0\n",
        "    for i in range(len(fit)):\n",
        "        totcost += fit[i]\n",
        "    cont = 0\n",
        "    # Count the number of individuals with non-zero fitness\n",
        "    for i in range(len(fit)):\n",
        "        if fit[i] != 0:\n",
        "            cont += 1\n",
        "    # Normalize fitness values based on the total cost\n",
        "    for i in range(len(fit)):\n",
        "        if cont == 1:\n",
        "            fit[i] = fit[i] / (totcost)\n",
        "        elif (cont > 1):\n",
        "            fit[i] = (1 - (fit[i] / totcost)) / (cont - 1)\n",
        "    return fit\n",
        "\n",
        "def cities(pop):\n",
        "    cit = []  # List to store the number of unique cities in each genome\n",
        "    for genome in pop:\n",
        "        counter_object = Counter(genome)  # Count occurrences of each city in the genome\n",
        "        keys = counter_object.keys()  # Get unique cities from the counter object\n",
        "        cit.append(len(keys))  # Append count of unique cities to the list\n",
        "    return cit  # Return list of counts for unique cities in each genome\n",
        "        \n",
        "def mutate(genome1, genome2):\n",
        "    # Check if there are no common cities between the genomes.\n",
        "    if set(genome1).intersection(genome2) == set():\n",
        "        # If there are no common cities, create new children genomes.\n",
        "        child1 = create_genome(len(genome1))\n",
        "        child2 = create_genome(len(genome2))\n",
        "        return child1, child2\n",
        "    while True:\n",
        "        city = int(np.random.randint(0, cityn))\n",
        "        # Check if the chosen city is present in both genomes\n",
        "        if (city in genome1) and (city in genome2):\n",
        "            # Perform crossover by swapping subsequences after the chosen city\n",
        "            p = genome1.index(city)\n",
        "            q = genome2.index(city)\n",
        "            child1 = genome1[:p] + genome2[q:]\n",
        "            child2 = genome2[:q] + genome1[p:]\n",
        "            return child1, child2"
      ],
      "metadata": {
        "id": "MCt5XEFQzGim"
      },
      "id": "MCt5XEFQzGim",
      "execution_count": 2,
      "outputs": []
    },
    {
      "cell_type": "code",
      "execution_count": 3,
      "id": "0141d8cd",
      "metadata": {
        "id": "0141d8cd"
      },
      "outputs": [],
      "source": [
        "#We define the maximum time as 72 hours, that is, 4320 minutes.\n",
        "max_t = 72*60\n",
        "\n",
        "#We establish the name of the cities to then create the matrices.\n",
        "citiesname = ['Madrid', 'Barcelona', 'Paris', 'Lyon', 'London', 'Brussels', 'Frankfurt', 'Milan', 'Amsterdam', 'Cologne', 'Berlin', 'Roma']\n",
        "\n",
        "#Adjacency matrix, reflects the connections between cities.\n",
        "adj = np.asarray([\n",
        "    [0, 1, 1, 0, 0, 0, 0, 0, 0, 0, 0, 0],\n",
        "    [1, 0, 1, 1, 0, 0, 0, 0, 0, 0, 0, 0],\n",
        "    [1, 1, 0, 1, 1, 1, 1, 0, 0, 0, 0, 0],\n",
        "    [0, 1, 1, 0, 0, 0, 0, 1, 0, 0, 0, 0],\n",
        "    [0, 0, 1, 0, 0, 0, 0, 0, 0, 0, 0, 0],\n",
        "    [0, 0, 1, 0, 0, 0, 0, 0, 1, 0, 0, 0], \n",
        "    [0, 0, 1, 0, 0, 0, 0, 1, 0, 1, 1, 0], \n",
        "    [0, 0, 0, 1, 0, 0, 1, 0, 0, 0, 0, 1],\n",
        "    [0, 0, 0, 0, 0, 1, 0, 0, 0, 1, 1, 0], \n",
        "    [0, 0, 0, 0, 0, 0, 1, 0, 1, 0, 0, 0],\n",
        "    [0, 0, 0, 0, 0, 0, 1, 0, 1, 0, 0, 0], \n",
        "    [0, 0, 0, 0, 0, 0, 0, 1, 0, 0, 0, 0], \n",
        "])\n",
        "\n",
        "# Matrix of the time to travel between cities.\n",
        "time_cost = np.asarray([\n",
        "    [0, 150, 225, 0, 0, 0, 0, 0, 0, 0, 0, 0], \n",
        "    [150, 0, 390, 200, 0, 0, 0, 0, 0, 0, 0, 0], \n",
        "    [225, 390, 0, 112, 136, 82, 480, 0, 0, 0, 0, 0], \n",
        "    [0, 200, 112, 0, 0, 0, 0, 176, 0, 0, 0, 0], \n",
        "    [0, 0, 136, 0, 0, 0, 0, 0, 0, 0, 0, 0], \n",
        "    [0, 0, 82, 0, 0, 0, 0, 0, 120, 0, 0, 0],\n",
        "    [0, 0, 480, 0, 0, 0, 0, 454, 0, 120, 232, 0], \n",
        "    [0, 0, 0, 176, 0, 0, 454, 0, 0, 0, 0, 168], \n",
        "    [0, 0, 0, 0, 0, 120, 0, 0, 0, 120, 364, 0], \n",
        "    [0, 0, 0, 0, 0, 0, 120, 0, 120, 0, 0, 0],\n",
        "    [0, 0, 0, 0, 0, 0, 232, 0, 364, 0, 0, 0], \n",
        "    [0, 0, 0, 0, 0, 0, 0, 168, 0, 0, 0, 0], \n",
        "])\n",
        "\n",
        "# Matrix of costs to travel between cities.\n",
        "dist_cost = np.asarray([\n",
        "    [0, 98, 380, 0, 0, 0, 0, 0, 0, 0, 0, 0], \n",
        "    [98, 0, 400, 320, 0, 0, 0, 0, 0, 0, 0, 0], \n",
        "    [380, 400, 0, 185, 98, 80, 345, 0, 0, 0, 0, 0],\n",
        "    [0, 320, 185, 0, 0, 0, 0, 180, 0, 0, 0, 0], \n",
        "    [0, 0, 98, 0, 0, 0, 0, 0, 0, 0, 0, 0], \n",
        "    [0, 0, 80, 0, 0, 0, 0, 0, 48, 0, 0, 0], \n",
        "    [0, 0, 345, 0, 0, 0, 0, 240, 0, 40, 125, 0], \n",
        "    [0, 0, 0, 180, 0, 0, 240, 0, 0, 0, 0, 125],\n",
        "    [0, 0, 0, 0, 0, 48, 0, 0, 0, 40, 235, 0], \n",
        "    [0, 0, 0, 0, 0, 0, 40, 0, 40, 0, 0, 0], \n",
        "    [0, 0, 0, 0, 0, 0, 125, 0, 235, 0, 0, 0], \n",
        "    [0, 0, 0, 0, 0, 0, 0, 125, 0, 0, 0, 0], \n",
        "])"
      ]
    },
    {
      "cell_type": "code",
      "execution_count": 4,
      "id": "85b4d4ef",
      "metadata": {
        "colab": {
          "base_uri": "https://localhost:8080/"
        },
        "id": "85b4d4ef",
        "outputId": "0100a0d7-bc7e-47bd-adc1-88b393c3d58d"
      },
      "outputs": [
        {
          "output_type": "stream",
          "name": "stdout",
          "text": [
            "Amsterdam -> Cologne -> Frankfurt -> Paris -> Frankfurt -> Paris -> Lyon -> Paris -> Lyon -> Barcelona -> Madrid -> Paris -> Barcelona -> Madrid -> Barcelona -> Lyon -> Barcelona -> Lyon -> Milan -> Frankfurt -> Paris -> London -> Paris -> Lyon -> Milan -> Frankfurt -> Milan -> Lyon -> Barcelona -> Lyon -> Milan -> Lyon -> Milan -> Frankfurt -> Paris -> Madrid -> Barcelona -> Lyon -> Paris -> London -> Paris -> Lyon -> Milan -> Lyon -> Barcelona -> Paris -> London -> Paris -> Barcelona -> Paris -> Lyon -> Paris -> Madrid -> Barcelona -> Paris -> London -> Paris -> Frankfurt -> Cologne -> Amsterdam -> Brussels -> Amsterdam -> Cologne -> Amsterdam -> Berlin -> Amsterdam -> Cologne -> Amsterdam -> Cologne -> Frankfurt -> Paris -> Lyon -> Paris -> Brussels -> Amsterdam -> Brussels -> Paris -> Brussels -> Amsterdam -> Berlin -> Amsterdam\n",
            "0\n"
          ]
        }
      ],
      "source": [
        "cityn = len(adj) - 1  # Number of cities: 'adj' list minus 1.\n",
        "pop_size = 20  \n",
        "gen_size = 80\n",
        "epochs = 600  # Number of iterations.\n",
        "elitism_coef = 2  # Number individuals preserved.\n",
        "\n",
        "genome = create_genome(gen_size)\n",
        "sol = solution(genome)  # Convert the genome into a string representation of the solution\n",
        "\n",
        "print(sol)  # Print the solution string\n",
        "print(fitness(genome))  # Print the fitness of the genome"
      ]
    },
    {
      "cell_type": "code",
      "execution_count": 5,
      "id": "e9d28974",
      "metadata": {
        "scrolled": false,
        "colab": {
          "base_uri": "https://localhost:8080/"
        },
        "id": "e9d28974",
        "outputId": "fd8a2657-1bb7-4dd1-b954-e68964fb9daf"
      },
      "outputs": [
        {
          "output_type": "stream",
          "name": "stdout",
          "text": [
            "Brussels -> Paris -> Madrid -> Barcelona -> Lyon -> Barcelona -> Madrid -> Paris -> London -> Paris -> Barcelona -> Lyon -> Milan -> Frankfurt -> Berlin -> Amsterdam -> Cologne -> Frankfurt -> Milan -> Frankfurt -> Paris -> Brussels -> Amsterdam -> Berlin -> Amsterdam -> Cologne -> Frankfurt -> Milan -> Lyon -> Milan -> Frankfurt -> Cologne -> Frankfurt -> Paris -> Brussels -> Paris -> Lyon -> Barcelona -> Paris -> Frankfurt -> Berlin -> Frankfurt -> Berlin -> Amsterdam -> Berlin -> Frankfurt -> Berlin -> Amsterdam -> Berlin -> Amsterdam -> Berlin -> Amsterdam -> Berlin -> Frankfurt -> Berlin -> Frankfurt -> Paris -> Frankfurt -> Paris -> Madrid -> Barcelona -> Madrid -> Barcelona -> Lyon -> Barcelona -> Paris -> Madrid -> Paris -> Madrid -> Paris -> Lyon -> Paris -> Barcelona -> Madrid -> Paris -> Frankfurt -> Cologne -> Amsterdam -> Cologne -> Frankfurt -> Paris\n",
            "0\n",
            "\n",
            "Barcelona -> Paris -> Madrid -> Barcelona -> Paris -> Madrid -> Barcelona -> Paris -> Brussels -> Paris -> Lyon -> Milan -> Lyon -> Barcelona -> Madrid -> Paris -> Madrid -> Paris -> Frankfurt -> Berlin -> Frankfurt -> Paris -> Frankfurt -> Berlin -> Frankfurt -> Berlin -> Amsterdam -> Cologne -> Frankfurt -> Milan -> Frankfurt -> Cologne -> Frankfurt -> Paris -> Brussels -> Paris -> London -> Paris -> Brussels -> Amsterdam -> Brussels -> Amsterdam -> Brussels -> Amsterdam -> Brussels -> Paris -> Frankfurt -> Milan -> Lyon -> Paris -> Lyon -> Paris -> London -> Paris -> Lyon -> Paris -> Barcelona -> Lyon -> Milan -> Frankfurt -> Milan -> Lyon -> Paris -> Lyon -> Barcelona -> Madrid -> Barcelona -> Madrid -> Paris -> London -> Paris -> Barcelona -> Madrid -> Barcelona -> Paris -> Brussels -> Paris -> Madrid -> Paris -> Barcelona -> Paris\n",
            "0\n",
            "\n"
          ]
        }
      ],
      "source": [
        "genome1 = create_genome(gen_size)  # Random genome for the first parent.\n",
        "genome2 = create_genome(gen_size)  # Random genome for the second parent.\n",
        "children = mutate(genome1, genome2)  # Mutated children from the parents.\n",
        "\n",
        "for child in children:\n",
        "    print(solution(child))\n",
        "    print(fitness(child))\n",
        "    print()"
      ]
    },
    {
      "cell_type": "code",
      "execution_count": 6,
      "id": "1b443339",
      "metadata": {
        "colab": {
          "base_uri": "https://localhost:8080/"
        },
        "id": "1b443339",
        "outputId": "ef4a1de0-0cbd-4633-aa53-7f11e6ae45da"
      },
      "outputs": [
        {
          "output_type": "stream",
          "name": "stdout",
          "text": [
            "[7, 3, 1, 0, 2, 3, 2, 5, 8, 10, 8, 10, 6, 10, 6, 10, 6, 2, 6, 10, 8, 10, 8, 10, 6, 7, 3, 7, 3, 1, 3, 7, 6, 7, 3, 1, 0, 1, 0, 2, 5, 2, 5, 8, 5, 8, 9, 8, 10, 6, 7, 6, 2, 1, 2, 3, 2, 6, 2, 6, 10, 6, 9, 6, 7, 6, 7, 3, 7, 6, 7, 6, 7, 3, 7, 6, 9, 6, 2, 4, 2]\n",
            "[7, 6, 10, 6, 7, 3, 2, 4, 2, 0, 1, 0, 2, 3, 7, 3, 7, 6, 10, 8, 5, 2, 0, 2, 3, 1, 2, 5, 8, 10, 6, 9, 6, 10, 6, 7, 3, 1, 3, 7, 6, 7, 3, 7, 6, 2, 1, 3, 2, 5, 2, 3, 2, 6, 7, 3, 1, 2, 6, 9, 8, 9, 6, 2, 5, 2, 5, 2, 5, 2, 5, 8, 10, 6, 7, 3, 7, 3, 2, 0, 2]\n",
            "[9, 8, 10, 6, 9, 6, 7, 3, 7, 6, 2, 4, 2, 4, 2, 3, 1, 3, 7, 6, 2, 3, 1, 3, 7, 3, 1, 0, 1, 0, 1, 3, 7, 3, 2, 6, 10, 8, 10, 6, 2, 5, 2, 3, 7, 3, 2, 5, 8, 5, 2, 3, 7, 6, 2, 3, 1, 0, 2, 1, 0, 2, 6, 7, 6, 9, 6, 7, 3, 7, 6, 2, 5, 2, 6, 7, 3, 7, 3, 1, 2]\n",
            "[6, 7, 3, 7, 6, 10, 8, 9, 6, 9, 8, 5, 8, 5, 2, 3, 1, 3, 7, 3, 2, 0, 1, 3, 2, 0, 2, 0, 2, 3, 2, 4, 2, 6, 10, 6, 9, 6, 2, 6, 9, 6, 9, 6, 9, 8, 5, 8, 5, 2, 3, 7, 3, 1, 0, 2, 1, 2, 0, 1, 2, 0, 2, 4, 2, 6, 2, 1, 3, 1, 2, 5, 2, 3, 1, 2, 5, 2, 5, 2, 1]\n",
            "[4, 2, 1, 3, 7, 6, 7, 6, 9, 8, 5, 2, 4, 2, 3, 1, 2, 5, 8, 5, 8, 10, 6, 10, 6, 9, 6, 9, 6, 10, 6, 10, 8, 10, 6, 10, 6, 7, 6, 7, 3, 7, 3, 1, 0, 2, 0, 1, 2, 6, 9, 6, 10, 6, 2, 5, 2, 4, 2, 5, 2, 3, 7, 3, 1, 2, 5, 2, 5, 8, 9, 6, 9, 8, 9, 8, 5, 2, 1, 2, 5]\n",
            "[7, 6, 10, 8, 5, 2, 0, 1, 0, 1, 3, 1, 2, 0, 1, 3, 1, 2, 4, 2, 3, 2, 5, 2, 3, 2, 5, 2, 1, 0, 2, 0, 1, 0, 2, 3, 7, 3, 2, 1, 0, 2, 0, 1, 0, 1, 3, 7, 6, 9, 6, 7, 6, 7, 6, 2, 3, 2, 4, 2, 1, 0, 2, 3, 1, 3, 1, 0, 2, 0, 2, 0, 2, 1, 0, 1, 0, 1, 0, 1, 2]\n",
            "[10, 6, 7, 3, 1, 3, 7, 6, 10, 6, 7, 3, 1, 0, 2, 3, 7, 6, 10, 8, 5, 8, 9, 8, 10, 8, 9, 8, 10, 6, 9, 8, 9, 6, 2, 1, 0, 2, 0, 2, 4, 2, 1, 3, 7, 6, 9, 8, 10, 6, 9, 8, 9, 6, 7, 6, 2, 1, 3, 7, 6, 9, 6, 10, 6, 9, 6, 10, 8, 5, 2, 3, 1, 3, 1, 2, 4, 2, 1, 3, 2]\n",
            "[5, 8, 9, 6, 9, 6, 9, 6, 7, 3, 2, 3, 1, 0, 2, 0, 2, 0, 2, 1, 2, 1, 2, 1, 2, 6, 7, 6, 7, 3, 2, 5, 2, 3, 1, 2, 6, 9, 8, 10, 8, 5, 8, 9, 6, 9, 8, 5, 2, 5, 8, 9, 8, 9, 6, 10, 6, 10, 8, 5, 2, 4, 2, 6, 7, 6, 9, 8, 10, 6, 10, 6, 7, 6, 10, 8, 9, 8, 9, 8, 9]\n",
            "[10, 8, 10, 6, 9, 6, 7, 6, 7, 6, 7, 6, 10, 6, 2, 4, 2, 3, 1, 2, 5, 2, 6, 9, 6, 2, 3, 1, 3, 7, 6, 2, 5, 2, 5, 8, 5, 2, 0, 1, 0, 2, 1, 0, 2, 1, 2, 0, 2, 4, 2, 6, 9, 6, 7, 6, 9, 6, 7, 6, 7, 6, 2, 0, 1, 3, 2, 6, 7, 6, 2, 3, 2, 0, 2, 5, 8, 5, 8, 10, 8]\n",
            "[2, 1, 0, 1, 3, 1, 2, 1, 0, 2, 5, 2, 3, 1, 0, 1, 0, 1, 0, 1, 3, 1, 2, 5, 8, 5, 2, 6, 2, 4, 2, 3, 2, 3, 7, 6, 2, 3, 2, 5, 2, 0, 2, 0, 1, 2, 6, 9, 8, 5, 2, 5, 2, 5, 8, 10, 8, 9, 8, 9, 8, 9, 6, 2, 4, 2, 0, 2, 0, 2, 5, 2, 6, 7, 3, 7, 3, 7, 6, 10, 8]\n",
            "[8, 5, 2, 0, 2, 3, 7, 3, 1, 3, 7, 6, 10, 8, 5, 2, 4, 2, 6, 7, 6, 10, 6, 9, 6, 2, 1, 3, 2, 6, 9, 6, 2, 4, 2, 5, 2, 6, 2, 5, 8, 5, 8, 5, 2, 4, 2, 1, 0, 2, 3, 7, 3, 2, 4, 2, 4, 2, 4, 2, 1, 2, 3, 7, 3, 7, 3, 7, 3, 1, 0, 2, 3, 7, 6, 9, 8, 10, 6, 2, 4]\n",
            "[2, 0, 1, 0, 1, 0, 1, 3, 7, 3, 7, 3, 1, 0, 2, 4, 2, 3, 7, 6, 2, 1, 0, 2, 3, 1, 3, 1, 0, 1, 2, 4, 2, 0, 2, 3, 7, 3, 7, 6, 7, 6, 2, 5, 8, 9, 8, 10, 8, 10, 8, 9, 8, 10, 8, 5, 2, 0, 2, 1, 0, 1, 0, 2, 1, 2, 4, 2, 4, 2, 4, 2, 3, 2, 1, 2, 5, 8, 5, 8, 10]\n",
            "[2, 0, 2, 5, 2, 0, 1, 0, 1, 2, 1, 2, 3, 2, 4, 2, 4, 2, 0, 2, 1, 2, 0, 1, 3, 2, 5, 2, 1, 3, 7, 6, 7, 3, 7, 6, 9, 6, 7, 3, 2, 1, 0, 1, 0, 2, 1, 2, 4, 2, 0, 1, 3, 7, 6, 9, 8, 9, 8, 10, 8, 5, 8, 10, 8, 10, 8, 9, 8, 5, 2, 0, 1, 3, 2, 1, 2, 4, 2, 1, 3]\n",
            "[3, 1, 0, 1, 3, 1, 2, 6, 9, 8, 5, 8, 5, 8, 5, 8, 5, 8, 5, 2, 4, 2, 0, 2, 6, 2, 4, 2, 4, 2, 6, 10, 6, 10, 8, 5, 2, 1, 0, 1, 3, 7, 3, 1, 3, 1, 2, 6, 7, 6, 9, 6, 2, 1, 2, 0, 2, 0, 1, 3, 7, 3, 2, 4, 2, 5, 8, 10, 8, 9, 6, 9, 8, 10, 8, 5, 8, 10, 6, 2, 3]\n",
            "[6, 10, 8, 9, 6, 9, 6, 2, 1, 3, 1, 3, 7, 6, 7, 6, 7, 6, 9, 6, 7, 3, 1, 2, 4, 2, 3, 2, 6, 2, 3, 7, 6, 9, 6, 2, 5, 2, 1, 3, 1, 0, 2, 3, 2, 4, 2, 6, 2, 1, 0, 2, 5, 2, 4, 2, 1, 0, 1, 3, 2, 1, 0, 2, 5, 8, 9, 6, 10, 8, 9, 6, 7, 6, 9, 8, 10, 8, 10, 6, 7]\n",
            "[9, 6, 10, 8, 5, 8, 9, 6, 10, 8, 9, 8, 10, 6, 7, 6, 10, 8, 9, 6, 9, 8, 9, 8, 10, 8, 9, 8, 9, 8, 9, 8, 10, 6, 10, 8, 9, 6, 9, 8, 9, 6, 10, 8, 5, 2, 4, 2, 0, 2, 3, 1, 2, 1, 0, 2, 3, 1, 0, 2, 1, 0, 2, 1, 0, 2, 1, 2, 6, 7, 6, 2, 1, 2, 4, 2, 6, 2, 0, 1, 3]\n",
            "[9, 6, 7, 3, 1, 3, 1, 2, 3, 2, 1, 0, 1, 2, 4, 2, 1, 0, 2, 3, 2, 6, 10, 8, 9, 8, 10, 6, 2, 0, 2, 0, 2, 0, 2, 3, 7, 3, 1, 2, 3, 7, 6, 10, 6, 2, 4, 2, 1, 3, 7, 6, 10, 6, 9, 6, 10, 6, 2, 4, 2, 4, 2, 3, 7, 6, 2, 4, 2, 5, 8, 5, 8, 9, 8, 9, 6, 9, 6, 10, 6]\n",
            "[6, 9, 8, 9, 6, 7, 6, 2, 1, 3, 1, 2, 0, 1, 2, 1, 2, 6, 9, 8, 5, 8, 10, 8, 9, 8, 9, 6, 9, 8, 9, 8, 10, 6, 2, 6, 2, 4, 2, 4, 2, 0, 1, 2, 1, 2, 6, 7, 6, 2, 5, 8, 5, 2, 1, 3, 7, 3, 1, 0, 1, 2, 1, 0, 2, 1, 2, 3, 7, 3, 1, 3, 7, 3, 7, 3, 1, 0, 2, 1, 0]\n",
            "[11, 7, 6, 7, 3, 2, 6, 2, 1, 2, 1, 2, 1, 2, 3, 1, 2, 4, 2, 6, 2, 1, 2, 5, 8, 5, 2, 4, 2, 1, 2, 4, 2, 4, 2, 1, 0, 2, 5, 8, 10, 8, 9]\n",
            "[6, 2, 6, 2, 0, 2, 5, 2, 6, 2, 1, 3, 1, 0, 2, 5, 2, 3, 1, 3, 2, 6, 2, 0, 2, 4, 2, 4, 2, 6, 10, 8, 10, 6, 2, 4, 2, 6, 7, 6, 2, 1, 2, 5, 8, 5, 2, 0, 2, 6, 10, 8, 10, 6, 2, 4, 2, 0, 1, 2, 3, 7, 3, 7, 3, 7, 6, 9, 8, 5, 2, 1, 0, 1, 3, 2, 4, 2, 5, 2, 3]\n",
            "0\n",
            "0\n",
            "0\n",
            "0\n",
            "0\n",
            "0\n",
            "0\n",
            "0\n",
            "0\n",
            "0\n",
            "0\n",
            "0\n",
            "0\n",
            "0\n",
            "0\n",
            "0\n",
            "0\n",
            "0\n",
            "0\n",
            "0\n"
          ]
        }
      ],
      "source": [
        "pop = first_generation(pop_size, gen_size)  # Initial population.\n",
        "pop = next_generation(pop, pop_size, elitism_coef)  # Next generation of the population.\n",
        "fit = pop_fitness(pop)  # Fitness values for the population.\n",
        "\n",
        "# Each genome in the population.\n",
        "for gene in pop:\n",
        "    print(gene)\n",
        "\n",
        "# Fitness value for each genome in the population.\n",
        "for x in fit:\n",
        "    print(x)"
      ]
    },
    {
      "cell_type": "code",
      "execution_count": 7,
      "id": "eea291b9",
      "metadata": {
        "scrolled": true,
        "colab": {
          "base_uri": "https://localhost:8080/"
        },
        "id": "eea291b9",
        "outputId": "b7aeb79d-16ad-4060-9188-7f7e05522a0b"
      },
      "outputs": [
        {
          "output_type": "stream",
          "name": "stderr",
          "text": [
            "100%|██████████| 600/600 [00:00<00:00, 659.38it/s]"
          ]
        },
        {
          "output_type": "stream",
          "name": "stdout",
          "text": [
            "Roma -> Milan -> Lyon -> Paris -> Madrid -> Barcelona -> Paris -> London -> Paris -> Brussels -> Amsterdam -> Cologne -> Frankfurt -> Cologne -> Frankfurt -> Milan -> Frankfurt -> Berlin\n",
            "12\n",
            "2457\n"
          ]
        },
        {
          "output_type": "stream",
          "name": "stderr",
          "text": [
            "\n"
          ]
        }
      ],
      "source": [
        "cityn = len(adj) - 1\n",
        "pop_size = 20\n",
        "gen_size = 80\n",
        "epochs = 600\n",
        "elitism_coef = 2\n",
        "\n",
        "while True:\n",
        "    pop = first_generation(pop_size, gen_size)\n",
        "    for i in tqdm(range(epochs)):\n",
        "        pop = next_generation(pop, pop_size, elitism_coef)\n",
        "    # Sort population based on fitness\n",
        "    pop.sort(key=fitness, reverse=True)\n",
        "    # Calculate fitness values\n",
        "    fit = pop_fitness(pop)\n",
        "    # Check termination condition\n",
        "    if cities(pop)[0] == 12:\n",
        "        break\n",
        "# Print the best solution\n",
        "print(solution(pop[0]))\n",
        "print(cities(pop)[0])\n",
        "print(fitness(pop[0]))"
      ]
    },
    {
      "cell_type": "code",
      "source": [],
      "metadata": {
        "id": "vOzX7Ju6W63U"
      },
      "id": "vOzX7Ju6W63U",
      "execution_count": 7,
      "outputs": []
    }
  ],
  "metadata": {
    "kernelspec": {
      "display_name": "Python 3 (ipykernel)",
      "language": "python",
      "name": "python3"
    },
    "language_info": {
      "codemirror_mode": {
        "name": "ipython",
        "version": 3
      },
      "file_extension": ".py",
      "mimetype": "text/x-python",
      "name": "python",
      "nbconvert_exporter": "python",
      "pygments_lexer": "ipython3",
      "version": "3.10.9"
    },
    "colab": {
      "provenance": []
    }
  },
  "nbformat": 4,
  "nbformat_minor": 5
}